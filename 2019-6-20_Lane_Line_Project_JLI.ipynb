# 2019-06-19 Udacity Self driving car project 1 Lane Line
# Author: Jiayi LI

#import classes
import matplotlib.pyplot as plt           # plot, save picture
import matplotlib.image as mpimg          # image processing
import numpy as np                        # normal functions
import cv2                                # openCV Gray, Blur, Canny edge, fill poly, Hough transfer
import math                               # math
import os                                 # file
from moviepy.editor import VideoFileClip  # move clip processing
from IPython.display import HTML          # show picture in HTML
# image processing funciton return 1d fitting line overlay
# only one argument is used because of clipInput.fl_image
def process_image(image): 

    # define parameter for line length
    vehicleHood = 1      # avoid vhhicle hood yGridMax*vehicleHood any line about this number get ingored
                         # only used for 3d fitting
    centerBrake = 0.05   # apex distance
    lineWidth = 15       # red lain width
    
    # make gray
    gray = cv2.cvtColor(image,cv2.COLOR_RGB2GRAY)
    
    # Define a kernel size and apply Gaussian smoothing
    kernel_size = 7
    blur_gray = cv2.GaussianBlur(gray,(kernel_size, kernel_size),0)
    
    # Define the parameters for Canny and apply
    low_threshold = 30
    high_threshold = 90
    edges = cv2.Canny(blur_gray, low_threshold, high_threshold)    
    
    # Next we'll create a masked edges image using cv2.fillPoly()
    mask = np.zeros_like(edges)   
    ignore_mask_color = 255   
    
    # This time we are defining a four sided polygon to mask
    imshape = image.shape
    xGridMax = imshape[1]; # x max
    yGridMax = imshape[0]; # Y max
    yCo = 1.7 # smaller than 2 mean the top of the trapeziod is lower than the image center
              # yGridMax/yCo
    vertices = np.array([[(0,yGridMax), (xGridMax*(0.5-centerBrake), yGridMax/yCo), (xGridMax*(0.5+centerBrake), yGridMax/yCo),
                          (xGridMax,yGridMax)]], dtype=np.int32)
    cv2.fillPoly(mask, vertices, ignore_mask_color)
    masked_edges = cv2.bitwise_and(edges, mask)
    
    # Define the Hough transform parameters
    # Make a blank the same size as our image to draw on
    rho = 1                       # distance resolution in pixels of the Hough grid
    theta = np.pi/180             # angular resolution in radians of the Hough grid
    threshold = 15                # minimum number of votes (intersections in Hough grid cell)
    min_line_length = 6           # minimum number of pixels making up a line
    max_line_gap = 10             # maximum gap in pixels between connectable line segments
    line_image = np.copy(image)*0 # creating a blank to draw lines on
    
    # Run Hough on edge detected image
    # Output "lines" is an array containing endpoints of detected line segments
    lines = cv2.HoughLinesP(masked_edges, rho, theta, threshold, np.array([]),
                                min_line_length, max_line_gap)
    
    # Iterate over the output "lines" and draw lines on a blank image
    # use the slpoe to filter out the lateral lines
    # find ploy fit for left and right line seperately
    # try both first and thrid order polynomial fitting
    # sweep the x pixels by incriement of 5
    # filter out the out of range points 
    # draw the line using the polynomial
    slopeList = [ ] # list of slope detetec after hough transfer
    slope_left = [ ] # slope for the left lane
    slope_right = [ ] # slope for the right lane
    leftLine = [ ] # left line [x,y] 2D array
    rightLine = [ ] # right line [x,y] 2D array
    # iterate all line in _lines_
    for line in lines:
        # each line has a array [x1,y1,x2,y2]
        for x1,y1,x2,y2 in line:
            dy = y2 - y1
            dx = x2 - x1
            # file slope
            slope = dy / dx
            # only consider the slope between 0.5 and 0.9
            if abs(slope)<0.9 and abs(slope)>0.5: # using gardian as a filter
                # add slope into _slopelist_ array
                slopeList.append(slope)
                # seperate left right points
                # find x1,y1
                temp = [line[0][0],line[0][1]]
                # left
                if temp[0] < (xGridMax*0.5):
                    leftLine.append(temp)
                # right
                else:
                    rightLine.append(temp)
                # find x2,y2
                temp = [line[0][2],line[0][3]]
                # left
                if temp[0] < (xGridMax*0.5):
                    leftLine.append(temp)
                # right
                else:
                    rightLine.append(temp)
                # draw benchmark line
                cv2.line(line_image,(x1,y1),(x2,y2),(255,0,0),10)
 
    # ploy fit
    # create points [[x1,y1],[x2,y2],...,[xn,yn]]
    leftLineX,leftLineY = zip(*leftLine)
    rightLineX,rightLineY = zip(*rightLine)
    
    # 1st order
    leftLineK1 = np.polyfit(leftLineX,leftLineY,1)
    rightLineK1 = np.polyfit(rightLineX,rightLineY,1)
    # result [k,b]
    # y = kx + b
    
    # reference global variables
    global counter
    global lastLeftLineK1
    global lastrightLineK1
    # counter of iteration for video output
    if counter == 0:
        #initialization
        lastLeftLineK1 = leftLineK1
        lastrightLineK1 = rightLineK1
    else:
        # find δ
        dkx = lastLeftLineK1[0]-leftLineK1[0]
        dky = lastrightLineK1[0]-rightLineK1[0]
        # if the new k is in tolerance than use the old k
        if abs(dkx) < 0.2:
            leftLineK1 = lastLeftLineK1
            counter += 1
        if abs(dky) < 0.2:
            rightLineK1 = lastrightLineK1
            counter += 1
    
    # 3rd order
    leftLineK = np.polyfit(leftLineX,leftLineY,3)
    rightLineK = np.polyfit(rightLineX,rightLineY,3)
    # result formate [a,b,c,d]
    # y = ax^3 + bx^2 + cx^1 + d
    
    # Create a "color" binary image to combine with line image
    color_edges = np.dstack((edges, edges, edges)) 
    
    # first order fitting
    line_image_2 = np.copy(image)*0 # creating a blank to draw lines on
    # x sweep
    ix = 0
    while (ix<xGridMax):
        x1 = ix
        x2 = ix+5
        # left line
        if x1 < (xGridMax*(0.5-centerBrake)):
           # find y
            y1 = leftLineK1[0]*math.pow(x1,1)+leftLineK1[1]
            y1 = int(y1)
            y2 = leftLineK1[0]*math.pow(x2,1)+leftLineK1[1]
            y2 = int(y2)
            # remove y out of the image frame
            if y1 < yGridMax:
               # crate left line
               cv2.line(line_image_2,(x1,y1),(x2,y2),(255,0,0),lineWidth)
        # right line      
        elif x2 > (xGridMax*(0.5+centerBrake)):
                # print(x1,x2)
                # fine y
                y1 = rightLineK1[0]*math.pow(x1,1)+rightLineK1[1]
                y1 = int(y1)
                y2 = rightLineK1[0]*math.pow(x2,1)+rightLineK1[1]
                y2 = int(y2)
                # remove y out of the image frame
                if y2 < yGridMax:
                    # print(x1,y1,x2,y2)
                    # crate right line
                    cv2.line(line_image_2,(x1,y1),(x2,y2),(255,0,0),lineWidth)
        # next ix
        ix = ix+5
    
    
    # third order polynomial fitting
    line_image_3 = np.copy(image)*0 # creating a blank to draw lines on
    # x sweep
    ix = 0
    while (ix<xGridMax):
        x1 = ix
        x2 = ix+5
        # print(x1,x2)
        # left line
        if x1 < (xGridMax*(0.5-centerBrake)):
           # fine y
           y1 = leftLineK[0]*math.pow(x1,3)+leftLineK[1]*math.pow(x1,2)+ \
                leftLineK[2]*math.pow(x1,1)+leftLineK[3]
           y1 = int(y1) # keep the integer
           y2 = leftLineK[0]*math.pow(x2,3)+leftLineK[1]*math.pow(x2,2)+ \
                leftLineK[2]*math.pow(x2,1)+leftLineK[3]
           y2 = int(y2) # keep the integer
           # remove y out of the image frame
           if y1 < yGridMax*vehicleHood:
              # print(x1,y1,x2,y2)
              # crate left line
              cv2.line(line_image_3,(x1,y1),(x2,y2),(255,0,0),lineWidth)
              
        # right line
        elif x2 > (xGridMax*(0.5+centerBrake)):
             # find y
             y1 = rightLineK[0]*math.pow(x1,3)+rightLineK[1]*math.pow(x1,2)+ \
                  rightLineK[2]*math.pow(x1,1)+rightLineK[3]
             y1 = int(y1) # keep the integer
             y2 = rightLineK[0]*math.pow(x2,3)+rightLineK[1]*math.pow(x2,2)+ \
                  rightLineK[2]*math.pow(x2,1)+rightLineK[3]
             y2 = int(y2) # keep the integer
             # remove y out of the image frame
             if y2 < yGridMax*vehicleHood:
                # print(x1,y1,x2,y2)
                # crate right line
                cv2.line(line_image_3,(x1,y1),(x2,y2),(255,0,0),lineWidth)
        # add one and next ix
        ix = ix+5 
         
    # overlay pictures
    lines_edges = cv2.addWeighted(image, 1, line_image, 0.9, 0)     # origional
    lines_edges_2 = cv2.addWeighted(image, 1, line_image_2, 0.9, 0) # 1d fitting
    lines_edges_3 = cv2.addWeighted(image, 1, line_image_3, 0.9, 0)   # 3d fitting
    
    plt.show(block=True) # show image
    return lines_edges_2 # return the 1st order fitting
    
# find a list of pictures in the "test_images" folder
imageList = os.listdir("test_images/")
os.chdir("test_images/")
print(imageList)

# porcess the images one by one
for iImg in imageList:
    imgInput = mpimg.imread(iImg)
    # initialize the counter
    counter = 0
    lastLeftLineK1 = [0,0]
    lastrightLineK1 = [0,0]
    imgOutput = process_image(imgInput)
    plt.imshow(imgOutput)
    plt.savefig('../test_images_output/output_'+iImg)
    # reset counter
    counter = 0
    
# video processing

# find a list of video in the "test_videos" folder
videoList = os.listdir("../test_videos/")
os.chdir("../test_videos/")
print(videoList)

# porcess the vidoe one by one

for iClip in videoList:
    clipInput = VideoFileClip(iClip)
    # initialize the counter
    counter = 0
    lastLeftLineK1 = [0,0]
    lastrightLineK1 = [0,0]
    clipOutput = clipInput.fl_image(process_image)
    clipOutputName = '../test_videos_output/output_'+iClip
    %time clipOutput.write_videofile(clipOutputName, audio=False)
    # reset counter
    counter = 0
